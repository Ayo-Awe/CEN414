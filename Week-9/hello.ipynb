{
 "cells": [
  {
   "cell_type": "code",
   "execution_count": 2,
   "metadata": {},
   "outputs": [
    {
     "name": "stdout",
     "output_type": "stream",
     "text": [
      "['apple', 'ball', 'banana', 'hello', 'show']\n"
     ]
    }
   ],
   "source": [
    "list = [\"apple\", \"ball\", \"hello\", \"show\", \"banana\"]\n",
    "\n",
    "list.sort()\n",
    "\n",
    "print(list)"
   ]
  }
 ],
 "metadata": {
  "kernelspec": {
   "display_name": "Python 3.10.8 64-bit",
   "language": "python",
   "name": "python3"
  },
  "language_info": {
   "codemirror_mode": {
    "name": "ipython",
    "version": 3
   },
   "file_extension": ".py",
   "mimetype": "text/x-python",
   "name": "python",
   "nbconvert_exporter": "python",
   "pygments_lexer": "ipython3",
   "version": "3.10.8"
  },
  "orig_nbformat": 4,
  "vscode": {
   "interpreter": {
    "hash": "de869b9c4779e358915489d5cc73a46e3a0c95e64e11bf0775769b4295e730a8"
   }
  }
 },
 "nbformat": 4,
 "nbformat_minor": 2
}
