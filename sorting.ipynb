{
 "cells": [
  {
   "cell_type": "code",
   "execution_count": 56,
   "metadata": {},
   "outputs": [],
   "source": [
    "animals = [\"elephant\", \"ape\", \"monkey\",\"apple\", \"shark\",\n",
    "           \"chimp\", \"zizard\", \"bird\", \"cheetah\"]"
   ]
  },
  {
   "cell_type": "code",
   "execution_count": 57,
   "metadata": {},
   "outputs": [
    {
     "name": "stdout",
     "output_type": "stream",
     "text": [
      "['elephant', 'ape', 'monkey', 'apple', 'shark', 'chimp', 'zizard', 'bird', 'cheetah']\n"
     ]
    }
   ],
   "source": [
    "print(animals)"
   ]
  },
  {
   "cell_type": "code",
   "execution_count": 58,
   "metadata": {},
   "outputs": [],
   "source": [
    "for i in range(len(animals) - 1, 0, -1):\n",
    "    for j in range(i):\n",
    "        if animals[j] > animals[j + 1]:\n",
    "            tmp = animals[j + 1]\n",
    "            animals[j + 1] = animals[j]\n",
    "            animals[j] = tmp"
   ]
  },
  {
   "cell_type": "markdown",
   "metadata": {},
   "source": [
    "Algorithm for sorting\n",
    "Input animals, n\n",
    "Initialise: i = 0, j = 0, tmp = \"\"\n",
    "\n",
    "for i = 0 to n - 2\n",
    "\tfor j = 0 to n - 2 - i\n",
    "\t\tif animals[j] > animals[j + 1]\n",
    "\t\t\ttmp = animals[j]\n",
    "\t\t\tanimals[j] = animals[j + 1]\n",
    "\t\t\tanimals[j + 1] = tmp\n",
    "\tend for\n",
    "end for\n",
    "\n"
   ]
  },
  {
   "cell_type": "code",
   "execution_count": 59,
   "metadata": {},
   "outputs": [
    {
     "name": "stdout",
     "output_type": "stream",
     "text": [
      "['ape', 'apple', 'bird', 'cheetah', 'chimp', 'elephant', 'monkey', 'shark', 'zizard']\n"
     ]
    }
   ],
   "source": [
    "print(animals)"
   ]
  }
 ],
 "metadata": {
  "kernelspec": {
   "display_name": "Python 3.10.8 64-bit",
   "language": "python",
   "name": "python3"
  },
  "language_info": {
   "codemirror_mode": {
    "name": "ipython",
    "version": 3
   },
   "file_extension": ".py",
   "mimetype": "text/x-python",
   "name": "python",
   "nbconvert_exporter": "python",
   "pygments_lexer": "ipython3",
   "version": "3.10.8"
  },
  "orig_nbformat": 4,
  "vscode": {
   "interpreter": {
    "hash": "de869b9c4779e358915489d5cc73a46e3a0c95e64e11bf0775769b4295e730a8"
   }
  }
 },
 "nbformat": 4,
 "nbformat_minor": 2
}
