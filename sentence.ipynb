{
 "cells": [
  {
   "cell_type": "code",
   "execution_count": 9,
   "metadata": {},
   "outputs": [
    {
     "name": "stdout",
     "output_type": "stream",
     "text": [
      " I am a boy  has 4 number of words and 5 number of spaces\n",
      "I am a girl has 4 number of words and 3 number of spaces\n",
      "I am a man has 4 number of words and 3 number of spaces\n",
      "I am a woman has 4 number of words and 3 number of spaces\n"
     ]
    }
   ],
   "source": [
    "sentences = [\" I am a boy \", \"I am a girl\",\"I am a man\", \"I am a woman\"]\n",
    "\n",
    "def countWords(str):\n",
    "\tc = str.strip().split(\" \")\n",
    "\treturn len(c)\n",
    "\n",
    "# for c in sentences[0]:\n",
    "for word in sentences:\n",
    "\tprint(f\"{word} has {countWords(word)} number of words and {len(word.split(' ')) - 1} number of spaces\")"
   ]
  }
 ],
 "metadata": {
  "kernelspec": {
   "display_name": "Python 3.10.8 64-bit",
   "language": "python",
   "name": "python3"
  },
  "language_info": {
   "codemirror_mode": {
    "name": "ipython",
    "version": 3
   },
   "file_extension": ".py",
   "mimetype": "text/x-python",
   "name": "python",
   "nbconvert_exporter": "python",
   "pygments_lexer": "ipython3",
   "version": "3.10.8"
  },
  "orig_nbformat": 4,
  "vscode": {
   "interpreter": {
    "hash": "de869b9c4779e358915489d5cc73a46e3a0c95e64e11bf0775769b4295e730a8"
   }
  }
 },
 "nbformat": 4,
 "nbformat_minor": 2
}
